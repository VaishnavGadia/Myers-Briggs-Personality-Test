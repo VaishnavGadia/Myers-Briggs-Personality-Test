{
 "cells": [
  {
   "cell_type": "code",
   "execution_count": 1,
   "metadata": {},
   "outputs": [],
   "source": [
    "import pandas as pd"
   ]
  },
  {
   "cell_type": "code",
   "execution_count": 2,
   "metadata": {},
   "outputs": [],
   "source": [
    "df=pd.read_csv('mbti_1.csv')"
   ]
  },
  {
   "cell_type": "code",
   "execution_count": 3,
   "metadata": {},
   "outputs": [
    {
     "data": {
      "text/html": [
       "<div>\n",
       "<style scoped>\n",
       "    .dataframe tbody tr th:only-of-type {\n",
       "        vertical-align: middle;\n",
       "    }\n",
       "\n",
       "    .dataframe tbody tr th {\n",
       "        vertical-align: top;\n",
       "    }\n",
       "\n",
       "    .dataframe thead th {\n",
       "        text-align: right;\n",
       "    }\n",
       "</style>\n",
       "<table border=\"1\" class=\"dataframe\">\n",
       "  <thead>\n",
       "    <tr style=\"text-align: right;\">\n",
       "      <th></th>\n",
       "      <th>type</th>\n",
       "      <th>posts</th>\n",
       "    </tr>\n",
       "  </thead>\n",
       "  <tbody>\n",
       "    <tr>\n",
       "      <th>0</th>\n",
       "      <td>INFJ</td>\n",
       "      <td>'http://www.youtube.com/watch?v=qsXHcwe3krw|||...</td>\n",
       "    </tr>\n",
       "    <tr>\n",
       "      <th>1</th>\n",
       "      <td>ENTP</td>\n",
       "      <td>'I'm finding the lack of me in these posts ver...</td>\n",
       "    </tr>\n",
       "    <tr>\n",
       "      <th>2</th>\n",
       "      <td>INTP</td>\n",
       "      <td>'Good one  _____   https://www.youtube.com/wat...</td>\n",
       "    </tr>\n",
       "    <tr>\n",
       "      <th>3</th>\n",
       "      <td>INTJ</td>\n",
       "      <td>'Dear INTP,   I enjoyed our conversation the o...</td>\n",
       "    </tr>\n",
       "    <tr>\n",
       "      <th>4</th>\n",
       "      <td>ENTJ</td>\n",
       "      <td>'You're fired.|||That's another silly misconce...</td>\n",
       "    </tr>\n",
       "  </tbody>\n",
       "</table>\n",
       "</div>"
      ],
      "text/plain": [
       "   type                                              posts\n",
       "0  INFJ  'http://www.youtube.com/watch?v=qsXHcwe3krw|||...\n",
       "1  ENTP  'I'm finding the lack of me in these posts ver...\n",
       "2  INTP  'Good one  _____   https://www.youtube.com/wat...\n",
       "3  INTJ  'Dear INTP,   I enjoyed our conversation the o...\n",
       "4  ENTJ  'You're fired.|||That's another silly misconce..."
      ]
     },
     "execution_count": 3,
     "metadata": {},
     "output_type": "execute_result"
    }
   ],
   "source": [
    "df.head()"
   ]
  },
  {
   "cell_type": "code",
   "execution_count": 4,
   "metadata": {},
   "outputs": [
    {
     "name": "stdout",
     "output_type": "stream",
     "text": [
      "8675\n"
     ]
    }
   ],
   "source": [
    "print(len(df))"
   ]
  },
  {
   "cell_type": "code",
   "execution_count": null,
   "metadata": {},
   "outputs": [],
   "source": []
  },
  {
   "cell_type": "code",
   "execution_count": 10,
   "metadata": {},
   "outputs": [
    {
     "name": "stdout",
     "output_type": "stream",
     "text": [
      "Requirement already satisfied: nltk in c:\\programdata\\anaconda3\\lib\\site-packages (3.4.4)\n",
      "Requirement already satisfied: six in c:\\programdata\\anaconda3\\lib\\site-packages (from nltk) (1.12.0)\n"
     ]
    }
   ],
   "source": [
    "!pip install nltk"
   ]
  },
  {
   "cell_type": "code",
   "execution_count": 5,
   "metadata": {},
   "outputs": [],
   "source": [
    "import nltk"
   ]
  },
  {
   "cell_type": "code",
   "execution_count": 17,
   "metadata": {},
   "outputs": [
    {
     "name": "stderr",
     "output_type": "stream",
     "text": [
      "[nltk_data] Error loading stopwords: <urlopen error [Errno 11001]\n",
      "[nltk_data]     getaddrinfo failed>\n"
     ]
    },
    {
     "data": {
      "text/plain": [
       "False"
      ]
     },
     "execution_count": 17,
     "metadata": {},
     "output_type": "execute_result"
    }
   ],
   "source": [
    "nltk.download('stopwords')"
   ]
  },
  {
   "cell_type": "code",
   "execution_count": 6,
   "metadata": {},
   "outputs": [],
   "source": [
    "from nltk.corpus import stopwords"
   ]
  },
  {
   "cell_type": "code",
   "execution_count": 7,
   "metadata": {},
   "outputs": [],
   "source": [
    "import re"
   ]
  },
  {
   "cell_type": "code",
   "execution_count": 8,
   "metadata": {},
   "outputs": [
    {
     "name": "stdout",
     "output_type": "stream",
     "text": [
      "'http://www.youtube.com/watch?v=qsXHcwe3krw|||http://41.media.tumblr.com/tumblr_lfouy03PMA1qa1rooo1_500.jpg|||enfp and intj moments  https://www.youtube.com/watch?v=iz7lE1g4XM4  sportscenter not top ten plays  https://www.youtube.com/watch?v=uCdfze1etec  pranks|||What has been the most life-changing experience in your life?|||http://www.youtube.com/watch?v=vXZeYwwRDw8   http://www.youtube.com/watch?v=u8ejam5DP3E  On repeat for most of today.|||May the PerC Experience immerse you.|||The last thing my INFJ friend posted on his facebook before committing suicide the next day. Rest in peace~   http://vimeo.com/22842206|||Hello ENFJ7. Sorry to hear of your distress. It's only natural for a relationship to not be perfection all the time in every moment of existence. Try to figure the hard times as times of growth, as...|||84389  84390  http://wallpaperpassion.com/upload/23700/friendship-boy-and-girl-wallpaper.jpg  http://assets.dornob.com/wp-content/uploads/2010/04/round-home-design.jpg ...|||Welcome and stuff.|||http://playeressence.com/wp-content/uploads/2013/08/RED-red-the-pokemon-master-32560474-450-338.jpg  Game. Set. Match.|||Prozac, wellbrutin, at least thirty minutes of moving your legs (and I don't mean moving them while sitting in your same desk chair), weed in moderation (maybe try edibles as a healthier alternative...|||Basically come up with three items you've determined that each type (or whichever types you want to do) would more than likely use, given each types' cognitive functions and whatnot, when left by...|||All things in moderation.  Sims is indeed a video game, and a good one at that. Note: a good one at that is somewhat subjective in that I am not completely promoting the death of any given Sim...|||Dear ENFP:  What were your favorite video games growing up and what are your now, current favorite video games? :cool:|||https://www.youtube.com/watch?v=QyPqT8umzmY|||It appears to be too late. :sad:|||There's someone out there for everyone.|||Wait... I thought confidence was a good thing.|||I just cherish the time of solitude b/c i revel within my inner world more whereas most other time i'd be workin... just enjoy the me time while you can. Don't worry, people will always be around to...|||Yo entp ladies... if you're into a complimentary personality,well, hey.|||... when your main social outlet is xbox live conversations and even then you verbally fatigue quickly.|||http://www.youtube.com/watch?v=gDhy7rdfm14  I really dig the part from 1:46 to 2:50|||http://www.youtube.com/watch?v=msqXffgh7b8|||Banned because this thread requires it of me.|||Get high in backyard, roast and eat marshmellows in backyard while conversing over something intellectual, followed by massages and kisses.|||http://www.youtube.com/watch?v=Mw7eoU3BMbE|||http://www.youtube.com/watch?v=4V2uYORhQOk|||http://www.youtube.com/watch?v=SlVmgFQQ0TI|||Banned for too many b's in that sentence. How could you! Think of the B!|||Banned for watching movies in the corner with the dunces.|||Banned because Health class clearly taught you nothing about peer pressure.|||Banned for a whole host of reasons!|||http://www.youtube.com/watch?v=IRcrv41hgz4|||1) Two baby deer on left and right munching on a beetle in the middle.  2) Using their own blood, two cavemen diary today's latest happenings on their designated cave diary wall.  3) I see it as...|||a pokemon world  an infj society  everyone becomes an optimist|||49142|||http://www.youtube.com/watch?v=ZRCEq_JFeFM|||http://discovermagazine.com/2012/jul-aug/20-things-you-didnt-know-about-deserts/desert.jpg|||http://oyster.ignimgs.com/mediawiki/apis.ign.com/pokemon-silver-version/d/dd/Ditto.gif|||http://www.serebii.net/potw-dp/Scizor.jpg|||Not all artists are artists because they draw. It's the idea that counts in forming something of your own... like a signature.|||Welcome to the robot ranks, person who downed my self-esteem cuz I'm not an avid signature artist like herself. :proud:|||Banned for taking all the room under my bed. Ya gotta learn to share with the roaches.|||http://www.youtube.com/watch?v=w8IgImn57aQ|||Banned for being too much of a thundering, grumbling kind of storm... yep.|||Ahh... old high school music I haven't heard in ages.   http://www.youtube.com/watch?v=dcCRUPCdB1w|||I failed a public speaking class a few years ago and I've sort of learned what I could do better were I to be in that position again. A big part of my failure was just overloading myself with too...|||I like this person's mentality. He's a confirmed INTJ by the way. http://www.youtube.com/watch?v=hGKLI-GEc6M|||Move to the Denver area and start a new life for myself.'\n"
     ]
    }
   ],
   "source": [
    "print(df['posts'][0])"
   ]
  },
  {
   "cell_type": "code",
   "execution_count": 9,
   "metadata": {},
   "outputs": [
    {
     "name": "stdout",
     "output_type": "stream",
     "text": [
      " http   www youtube com watch v qsXHcwe krw   http      media tumblr com tumblr lfouy  PMA qa rooo      jpg   enfp and intj moments  https   www youtube com watch v iz lE g XM   sportscenter not top ten plays  https   www youtube com watch v uCdfze etec  pranks   What has been the most life changing experience in your life    http   www youtube com watch v vXZeYwwRDw    http   www youtube com watch v u ejam DP E  On repeat for most of today    May the PerC Experience immerse you    The last thing my INFJ friend posted on his facebook before committing suicide the next day  Rest in peace    http   vimeo com            Hello ENFJ   Sorry to hear of your distress  It s only natural for a relationship to not be perfection all the time in every moment of existence  Try to figure the hard times as times of growth  as                    http   wallpaperpassion com upload       friendship boy and girl wallpaper jpg  http   assets dornob com wp content uploads         round home design jpg       Welcome and stuff    http   playeressence com wp content uploads         RED red the pokemon master                  jpg  Game  Set  Match    Prozac  wellbrutin  at least thirty minutes of moving your legs  and I don t mean moving them while sitting in your same desk chair   weed in moderation  maybe try edibles as a healthier alternative      Basically come up with three items you ve determined that each type  or whichever types you want to do  would more than likely use  given each types  cognitive functions and whatnot  when left by      All things in moderation   Sims is indeed a video game  and a good one at that  Note  a good one at that is somewhat subjective in that I am not completely promoting the death of any given Sim      Dear ENFP   What were your favorite video games growing up and what are your now  current favorite video games   cool    https   www youtube com watch v QyPqT umzmY   It appears to be too late   sad    There s someone out there for everyone    Wait    I thought confidence was a good thing    I just cherish the time of solitude b c i revel within my inner world more whereas most other time i d be workin    just enjoy the me time while you can  Don t worry  people will always be around to      Yo entp ladies    if you re into a complimentary personality well  hey        when your main social outlet is xbox live conversations and even then you verbally fatigue quickly    http   www youtube com watch v gDhy rdfm    I really dig the part from      to        http   www youtube com watch v msqXffgh b    Banned because this thread requires it of me    Get high in backyard  roast and eat marshmellows in backyard while conversing over something intellectual  followed by massages and kisses    http   www youtube com watch v Mw eoU BMbE   http   www youtube com watch v  V uYORhQOk   http   www youtube com watch v SlVmgFQQ TI   Banned for too many b s in that sentence  How could you  Think of the B    Banned for watching movies in the corner with the dunces    Banned because Health class clearly taught you nothing about peer pressure    Banned for a whole host of reasons    http   www youtube com watch v IRcrv  hgz       Two baby deer on left and right munching on a beetle in the middle      Using their own blood  two cavemen diary today s latest happenings on their designated cave diary wall      I see it as      a pokemon world  an infj society  everyone becomes an optimist           http   www youtube com watch v ZRCEq JFeFM   http   discovermagazine com      jul aug    things you didnt know about deserts desert jpg   http   oyster ignimgs com mediawiki apis ign com pokemon silver version d dd Ditto gif   http   www serebii net potw dp Scizor jpg   Not all artists are artists because they draw  It s the idea that counts in forming something of your own    like a signature    Welcome to the robot ranks  person who downed my self esteem cuz I m not an avid signature artist like herself   proud    Banned for taking all the room under my bed  Ya gotta learn to share with the roaches    http   www youtube com watch v w IgImn  aQ   Banned for being too much of a thundering  grumbling kind of storm    yep    Ahh    old high school music I haven t heard in ages    http   www youtube com watch v dcCRUPCdB w   I failed a public speaking class a few years ago and I ve sort of learned what I could do better were I to be in that position again  A big part of my failure was just overloading myself with too      I like this person s mentality  He s a confirmed INTJ by the way  http   www youtube com watch v hGKLI GEc M   Move to the Denver area and start a new life for myself  \n"
     ]
    }
   ],
   "source": [
    "post=re.sub('[^a-zA-Z]', ' ', df['posts'][0])\n",
    "print (post)"
   ]
  },
  {
   "cell_type": "code",
   "execution_count": 10,
   "metadata": {},
   "outputs": [
    {
     "name": "stdout",
     "output_type": "stream",
     "text": [
      " http   www youtube com watch v qsxhcwe krw   http      media tumblr com tumblr lfouy  pma qa rooo      jpg   enfp and intj moments  https   www youtube com watch v iz le g xm   sportscenter not top ten plays  https   www youtube com watch v ucdfze etec  pranks   what has been the most life changing experience in your life    http   www youtube com watch v vxzeywwrdw    http   www youtube com watch v u ejam dp e  on repeat for most of today    may the perc experience immerse you    the last thing my infj friend posted on his facebook before committing suicide the next day  rest in peace    http   vimeo com            hello enfj   sorry to hear of your distress  it s only natural for a relationship to not be perfection all the time in every moment of existence  try to figure the hard times as times of growth  as                    http   wallpaperpassion com upload       friendship boy and girl wallpaper jpg  http   assets dornob com wp content uploads         round home design jpg       welcome and stuff    http   playeressence com wp content uploads         red red the pokemon master                  jpg  game  set  match    prozac  wellbrutin  at least thirty minutes of moving your legs  and i don t mean moving them while sitting in your same desk chair   weed in moderation  maybe try edibles as a healthier alternative      basically come up with three items you ve determined that each type  or whichever types you want to do  would more than likely use  given each types  cognitive functions and whatnot  when left by      all things in moderation   sims is indeed a video game  and a good one at that  note  a good one at that is somewhat subjective in that i am not completely promoting the death of any given sim      dear enfp   what were your favorite video games growing up and what are your now  current favorite video games   cool    https   www youtube com watch v qypqt umzmy   it appears to be too late   sad    there s someone out there for everyone    wait    i thought confidence was a good thing    i just cherish the time of solitude b c i revel within my inner world more whereas most other time i d be workin    just enjoy the me time while you can  don t worry  people will always be around to      yo entp ladies    if you re into a complimentary personality well  hey        when your main social outlet is xbox live conversations and even then you verbally fatigue quickly    http   www youtube com watch v gdhy rdfm    i really dig the part from      to        http   www youtube com watch v msqxffgh b    banned because this thread requires it of me    get high in backyard  roast and eat marshmellows in backyard while conversing over something intellectual  followed by massages and kisses    http   www youtube com watch v mw eou bmbe   http   www youtube com watch v  v uyorhqok   http   www youtube com watch v slvmgfqq ti   banned for too many b s in that sentence  how could you  think of the b    banned for watching movies in the corner with the dunces    banned because health class clearly taught you nothing about peer pressure    banned for a whole host of reasons    http   www youtube com watch v ircrv  hgz       two baby deer on left and right munching on a beetle in the middle      using their own blood  two cavemen diary today s latest happenings on their designated cave diary wall      i see it as      a pokemon world  an infj society  everyone becomes an optimist           http   www youtube com watch v zrceq jfefm   http   discovermagazine com      jul aug    things you didnt know about deserts desert jpg   http   oyster ignimgs com mediawiki apis ign com pokemon silver version d dd ditto gif   http   www serebii net potw dp scizor jpg   not all artists are artists because they draw  it s the idea that counts in forming something of your own    like a signature    welcome to the robot ranks  person who downed my self esteem cuz i m not an avid signature artist like herself   proud    banned for taking all the room under my bed  ya gotta learn to share with the roaches    http   www youtube com watch v w igimn  aq   banned for being too much of a thundering  grumbling kind of storm    yep    ahh    old high school music i haven t heard in ages    http   www youtube com watch v dccrupcdb w   i failed a public speaking class a few years ago and i ve sort of learned what i could do better were i to be in that position again  a big part of my failure was just overloading myself with too      i like this person s mentality  he s a confirmed intj by the way  http   www youtube com watch v hgkli gec m   move to the denver area and start a new life for myself  \n"
     ]
    }
   ],
   "source": [
    "post=post.lower()\n",
    "print(post)"
   ]
  },
  {
   "cell_type": "code",
   "execution_count": 11,
   "metadata": {},
   "outputs": [
    {
     "name": "stdout",
     "output_type": "stream",
     "text": [
      "['http', 'www', 'youtube', 'com', 'watch', 'v', 'qsxhcwe', 'krw', 'http', 'media', 'tumblr', 'com', 'tumblr', 'lfouy', 'pma', 'qa', 'rooo', 'jpg', 'enfp', 'and', 'intj', 'moments', 'https', 'www', 'youtube', 'com', 'watch', 'v', 'iz', 'le', 'g', 'xm', 'sportscenter', 'not', 'top', 'ten', 'plays', 'https', 'www', 'youtube', 'com', 'watch', 'v', 'ucdfze', 'etec', 'pranks', 'what', 'has', 'been', 'the', 'most', 'life', 'changing', 'experience', 'in', 'your', 'life', 'http', 'www', 'youtube', 'com', 'watch', 'v', 'vxzeywwrdw', 'http', 'www', 'youtube', 'com', 'watch', 'v', 'u', 'ejam', 'dp', 'e', 'on', 'repeat', 'for', 'most', 'of', 'today', 'may', 'the', 'perc', 'experience', 'immerse', 'you', 'the', 'last', 'thing', 'my', 'infj', 'friend', 'posted', 'on', 'his', 'facebook', 'before', 'committing', 'suicide', 'the', 'next', 'day', 'rest', 'in', 'peace', 'http', 'vimeo', 'com', 'hello', 'enfj', 'sorry', 'to', 'hear', 'of', 'your', 'distress', 'it', 's', 'only', 'natural', 'for', 'a', 'relationship', 'to', 'not', 'be', 'perfection', 'all', 'the', 'time', 'in', 'every', 'moment', 'of', 'existence', 'try', 'to', 'figure', 'the', 'hard', 'times', 'as', 'times', 'of', 'growth', 'as', 'http', 'wallpaperpassion', 'com', 'upload', 'friendship', 'boy', 'and', 'girl', 'wallpaper', 'jpg', 'http', 'assets', 'dornob', 'com', 'wp', 'content', 'uploads', 'round', 'home', 'design', 'jpg', 'welcome', 'and', 'stuff', 'http', 'playeressence', 'com', 'wp', 'content', 'uploads', 'red', 'red', 'the', 'pokemon', 'master', 'jpg', 'game', 'set', 'match', 'prozac', 'wellbrutin', 'at', 'least', 'thirty', 'minutes', 'of', 'moving', 'your', 'legs', 'and', 'i', 'don', 't', 'mean', 'moving', 'them', 'while', 'sitting', 'in', 'your', 'same', 'desk', 'chair', 'weed', 'in', 'moderation', 'maybe', 'try', 'edibles', 'as', 'a', 'healthier', 'alternative', 'basically', 'come', 'up', 'with', 'three', 'items', 'you', 've', 'determined', 'that', 'each', 'type', 'or', 'whichever', 'types', 'you', 'want', 'to', 'do', 'would', 'more', 'than', 'likely', 'use', 'given', 'each', 'types', 'cognitive', 'functions', 'and', 'whatnot', 'when', 'left', 'by', 'all', 'things', 'in', 'moderation', 'sims', 'is', 'indeed', 'a', 'video', 'game', 'and', 'a', 'good', 'one', 'at', 'that', 'note', 'a', 'good', 'one', 'at', 'that', 'is', 'somewhat', 'subjective', 'in', 'that', 'i', 'am', 'not', 'completely', 'promoting', 'the', 'death', 'of', 'any', 'given', 'sim', 'dear', 'enfp', 'what', 'were', 'your', 'favorite', 'video', 'games', 'growing', 'up', 'and', 'what', 'are', 'your', 'now', 'current', 'favorite', 'video', 'games', 'cool', 'https', 'www', 'youtube', 'com', 'watch', 'v', 'qypqt', 'umzmy', 'it', 'appears', 'to', 'be', 'too', 'late', 'sad', 'there', 's', 'someone', 'out', 'there', 'for', 'everyone', 'wait', 'i', 'thought', 'confidence', 'was', 'a', 'good', 'thing', 'i', 'just', 'cherish', 'the', 'time', 'of', 'solitude', 'b', 'c', 'i', 'revel', 'within', 'my', 'inner', 'world', 'more', 'whereas', 'most', 'other', 'time', 'i', 'd', 'be', 'workin', 'just', 'enjoy', 'the', 'me', 'time', 'while', 'you', 'can', 'don', 't', 'worry', 'people', 'will', 'always', 'be', 'around', 'to', 'yo', 'entp', 'ladies', 'if', 'you', 're', 'into', 'a', 'complimentary', 'personality', 'well', 'hey', 'when', 'your', 'main', 'social', 'outlet', 'is', 'xbox', 'live', 'conversations', 'and', 'even', 'then', 'you', 'verbally', 'fatigue', 'quickly', 'http', 'www', 'youtube', 'com', 'watch', 'v', 'gdhy', 'rdfm', 'i', 'really', 'dig', 'the', 'part', 'from', 'to', 'http', 'www', 'youtube', 'com', 'watch', 'v', 'msqxffgh', 'b', 'banned', 'because', 'this', 'thread', 'requires', 'it', 'of', 'me', 'get', 'high', 'in', 'backyard', 'roast', 'and', 'eat', 'marshmellows', 'in', 'backyard', 'while', 'conversing', 'over', 'something', 'intellectual', 'followed', 'by', 'massages', 'and', 'kisses', 'http', 'www', 'youtube', 'com', 'watch', 'v', 'mw', 'eou', 'bmbe', 'http', 'www', 'youtube', 'com', 'watch', 'v', 'v', 'uyorhqok', 'http', 'www', 'youtube', 'com', 'watch', 'v', 'slvmgfqq', 'ti', 'banned', 'for', 'too', 'many', 'b', 's', 'in', 'that', 'sentence', 'how', 'could', 'you', 'think', 'of', 'the', 'b', 'banned', 'for', 'watching', 'movies', 'in', 'the', 'corner', 'with', 'the', 'dunces', 'banned', 'because', 'health', 'class', 'clearly', 'taught', 'you', 'nothing', 'about', 'peer', 'pressure', 'banned', 'for', 'a', 'whole', 'host', 'of', 'reasons', 'http', 'www', 'youtube', 'com', 'watch', 'v', 'ircrv', 'hgz', 'two', 'baby', 'deer', 'on', 'left', 'and', 'right', 'munching', 'on', 'a', 'beetle', 'in', 'the', 'middle', 'using', 'their', 'own', 'blood', 'two', 'cavemen', 'diary', 'today', 's', 'latest', 'happenings', 'on', 'their', 'designated', 'cave', 'diary', 'wall', 'i', 'see', 'it', 'as', 'a', 'pokemon', 'world', 'an', 'infj', 'society', 'everyone', 'becomes', 'an', 'optimist', 'http', 'www', 'youtube', 'com', 'watch', 'v', 'zrceq', 'jfefm', 'http', 'discovermagazine', 'com', 'jul', 'aug', 'things', 'you', 'didnt', 'know', 'about', 'deserts', 'desert', 'jpg', 'http', 'oyster', 'ignimgs', 'com', 'mediawiki', 'apis', 'ign', 'com', 'pokemon', 'silver', 'version', 'd', 'dd', 'ditto', 'gif', 'http', 'www', 'serebii', 'net', 'potw', 'dp', 'scizor', 'jpg', 'not', 'all', 'artists', 'are', 'artists', 'because', 'they', 'draw', 'it', 's', 'the', 'idea', 'that', 'counts', 'in', 'forming', 'something', 'of', 'your', 'own', 'like', 'a', 'signature', 'welcome', 'to', 'the', 'robot', 'ranks', 'person', 'who', 'downed', 'my', 'self', 'esteem', 'cuz', 'i', 'm', 'not', 'an', 'avid', 'signature', 'artist', 'like', 'herself', 'proud', 'banned', 'for', 'taking', 'all', 'the', 'room', 'under', 'my', 'bed', 'ya', 'gotta', 'learn', 'to', 'share', 'with', 'the', 'roaches', 'http', 'www', 'youtube', 'com', 'watch', 'v', 'w', 'igimn', 'aq', 'banned', 'for', 'being', 'too', 'much', 'of', 'a', 'thundering', 'grumbling', 'kind', 'of', 'storm', 'yep', 'ahh', 'old', 'high', 'school', 'music', 'i', 'haven', 't', 'heard', 'in', 'ages', 'http', 'www', 'youtube', 'com', 'watch', 'v', 'dccrupcdb', 'w', 'i', 'failed', 'a', 'public', 'speaking', 'class', 'a', 'few', 'years', 'ago', 'and', 'i', 've', 'sort', 'of', 'learned', 'what', 'i', 'could', 'do', 'better', 'were', 'i', 'to', 'be', 'in', 'that', 'position', 'again', 'a', 'big', 'part', 'of', 'my', 'failure', 'was', 'just', 'overloading', 'myself', 'with', 'too', 'i', 'like', 'this', 'person', 's', 'mentality', 'he', 's', 'a', 'confirmed', 'intj', 'by', 'the', 'way', 'http', 'www', 'youtube', 'com', 'watch', 'v', 'hgkli', 'gec', 'm', 'move', 'to', 'the', 'denver', 'area', 'and', 'start', 'a', 'new', 'life', 'for', 'myself']\n"
     ]
    }
   ],
   "source": [
    "post=post.split()\n",
    "print(post)"
   ]
  },
  {
   "cell_type": "code",
   "execution_count": 12,
   "metadata": {},
   "outputs": [
    {
     "name": "stderr",
     "output_type": "stream",
     "text": [
      "[nltk_data] Downloading package stopwords to C:\\Users\\Vaishnav\n",
      "[nltk_data]     Gadia\\AppData\\Roaming\\nltk_data...\n",
      "[nltk_data]   Package stopwords is already up-to-date!\n"
     ]
    },
    {
     "data": {
      "text/plain": [
       "True"
      ]
     },
     "execution_count": 12,
     "metadata": {},
     "output_type": "execute_result"
    }
   ],
   "source": [
    "import nltk\n",
    "nltk.download('stopwords')"
   ]
  },
  {
   "cell_type": "code",
   "execution_count": 13,
   "metadata": {},
   "outputs": [
    {
     "name": "stdout",
     "output_type": "stream",
     "text": [
      "['http', 'www', 'youtube', 'com', 'watch', 'v', 'qsxhcwe', 'krw', 'http', 'media', 'tumblr', 'com', 'tumblr', 'lfouy', 'pma', 'qa', 'rooo', 'jpg', 'enfp', 'intj', 'moments', 'https', 'www', 'youtube', 'com', 'watch', 'v', 'iz', 'le', 'g', 'xm', 'sportscenter', 'top', 'ten', 'plays', 'https', 'www', 'youtube', 'com', 'watch', 'v', 'ucdfze', 'etec', 'pranks', 'life', 'changing', 'experience', 'life', 'http', 'www', 'youtube', 'com', 'watch', 'v', 'vxzeywwrdw', 'http', 'www', 'youtube', 'com', 'watch', 'v', 'u', 'ejam', 'dp', 'e', 'repeat', 'today', 'may', 'perc', 'experience', 'immerse', 'last', 'thing', 'infj', 'friend', 'posted', 'facebook', 'committing', 'suicide', 'next', 'day', 'rest', 'peace', 'http', 'vimeo', 'com', 'hello', 'enfj', 'sorry', 'hear', 'distress', 'natural', 'relationship', 'perfection', 'time', 'every', 'moment', 'existence', 'try', 'figure', 'hard', 'times', 'times', 'growth', 'http', 'wallpaperpassion', 'com', 'upload', 'friendship', 'boy', 'girl', 'wallpaper', 'jpg', 'http', 'assets', 'dornob', 'com', 'wp', 'content', 'uploads', 'round', 'home', 'design', 'jpg', 'welcome', 'stuff', 'http', 'playeressence', 'com', 'wp', 'content', 'uploads', 'red', 'red', 'pokemon', 'master', 'jpg', 'game', 'set', 'match', 'prozac', 'wellbrutin', 'least', 'thirty', 'minutes', 'moving', 'legs', 'mean', 'moving', 'sitting', 'desk', 'chair', 'weed', 'moderation', 'maybe', 'try', 'edibles', 'healthier', 'alternative', 'basically', 'come', 'three', 'items', 'determined', 'type', 'whichever', 'types', 'want', 'would', 'likely', 'use', 'given', 'types', 'cognitive', 'functions', 'whatnot', 'left', 'things', 'moderation', 'sims', 'indeed', 'video', 'game', 'good', 'one', 'note', 'good', 'one', 'somewhat', 'subjective', 'completely', 'promoting', 'death', 'given', 'sim', 'dear', 'enfp', 'favorite', 'video', 'games', 'growing', 'current', 'favorite', 'video', 'games', 'cool', 'https', 'www', 'youtube', 'com', 'watch', 'v', 'qypqt', 'umzmy', 'appears', 'late', 'sad', 'someone', 'everyone', 'wait', 'thought', 'confidence', 'good', 'thing', 'cherish', 'time', 'solitude', 'b', 'c', 'revel', 'within', 'inner', 'world', 'whereas', 'time', 'workin', 'enjoy', 'time', 'worry', 'people', 'always', 'around', 'yo', 'entp', 'ladies', 'complimentary', 'personality', 'well', 'hey', 'main', 'social', 'outlet', 'xbox', 'live', 'conversations', 'even', 'verbally', 'fatigue', 'quickly', 'http', 'www', 'youtube', 'com', 'watch', 'v', 'gdhy', 'rdfm', 'really', 'dig', 'part', 'http', 'www', 'youtube', 'com', 'watch', 'v', 'msqxffgh', 'b', 'banned', 'thread', 'requires', 'get', 'high', 'backyard', 'roast', 'eat', 'marshmellows', 'backyard', 'conversing', 'something', 'intellectual', 'followed', 'massages', 'kisses', 'http', 'www', 'youtube', 'com', 'watch', 'v', 'mw', 'eou', 'bmbe', 'http', 'www', 'youtube', 'com', 'watch', 'v', 'v', 'uyorhqok', 'http', 'www', 'youtube', 'com', 'watch', 'v', 'slvmgfqq', 'ti', 'banned', 'many', 'b', 'sentence', 'could', 'think', 'b', 'banned', 'watching', 'movies', 'corner', 'dunces', 'banned', 'health', 'class', 'clearly', 'taught', 'nothing', 'peer', 'pressure', 'banned', 'whole', 'host', 'reasons', 'http', 'www', 'youtube', 'com', 'watch', 'v', 'ircrv', 'hgz', 'two', 'baby', 'deer', 'left', 'right', 'munching', 'beetle', 'middle', 'using', 'blood', 'two', 'cavemen', 'diary', 'today', 'latest', 'happenings', 'designated', 'cave', 'diary', 'wall', 'see', 'pokemon', 'world', 'infj', 'society', 'everyone', 'becomes', 'optimist', 'http', 'www', 'youtube', 'com', 'watch', 'v', 'zrceq', 'jfefm', 'http', 'discovermagazine', 'com', 'jul', 'aug', 'things', 'didnt', 'know', 'deserts', 'desert', 'jpg', 'http', 'oyster', 'ignimgs', 'com', 'mediawiki', 'apis', 'ign', 'com', 'pokemon', 'silver', 'version', 'dd', 'ditto', 'gif', 'http', 'www', 'serebii', 'net', 'potw', 'dp', 'scizor', 'jpg', 'artists', 'artists', 'draw', 'idea', 'counts', 'forming', 'something', 'like', 'signature', 'welcome', 'robot', 'ranks', 'person', 'downed', 'self', 'esteem', 'cuz', 'avid', 'signature', 'artist', 'like', 'proud', 'banned', 'taking', 'room', 'bed', 'ya', 'gotta', 'learn', 'share', 'roaches', 'http', 'www', 'youtube', 'com', 'watch', 'v', 'w', 'igimn', 'aq', 'banned', 'much', 'thundering', 'grumbling', 'kind', 'storm', 'yep', 'ahh', 'old', 'high', 'school', 'music', 'heard', 'ages', 'http', 'www', 'youtube', 'com', 'watch', 'v', 'dccrupcdb', 'w', 'failed', 'public', 'speaking', 'class', 'years', 'ago', 'sort', 'learned', 'could', 'better', 'position', 'big', 'part', 'failure', 'overloading', 'like', 'person', 'mentality', 'confirmed', 'intj', 'way', 'http', 'www', 'youtube', 'com', 'watch', 'v', 'hgkli', 'gec', 'move', 'denver', 'area', 'start', 'new', 'life']\n"
     ]
    }
   ],
   "source": [
    "post=[i  for i in post   if not i in set(stopwords.words('english'))]\n",
    "print(post)"
   ]
  },
  {
   "cell_type": "code",
   "execution_count": 14,
   "metadata": {},
   "outputs": [],
   "source": [
    "from nltk.stem.porter import PorterStemmer"
   ]
  },
  {
   "cell_type": "code",
   "execution_count": 15,
   "metadata": {},
   "outputs": [
    {
     "name": "stdout",
     "output_type": "stream",
     "text": [
      "['http', 'www', 'youtub', 'com', 'watch', 'v', 'qsxhcwe', 'krw', 'http', 'media', 'tumblr', 'com', 'tumblr', 'lfouy', 'pma', 'qa', 'rooo', 'jpg', 'enfp', 'intj', 'moment', 'http', 'www', 'youtub', 'com', 'watch', 'v', 'iz', 'le', 'g', 'xm', 'sportscent', 'top', 'ten', 'play', 'http', 'www', 'youtub', 'com', 'watch', 'v', 'ucdfz', 'etec', 'prank', 'life', 'chang', 'experi', 'life', 'http', 'www', 'youtub', 'com', 'watch', 'v', 'vxzeywwrdw', 'http', 'www', 'youtub', 'com', 'watch', 'v', 'u', 'ejam', 'dp', 'e', 'repeat', 'today', 'may', 'perc', 'experi', 'immers', 'last', 'thing', 'infj', 'friend', 'post', 'facebook', 'commit', 'suicid', 'next', 'day', 'rest', 'peac', 'http', 'vimeo', 'com', 'hello', 'enfj', 'sorri', 'hear', 'distress', 'natur', 'relationship', 'perfect', 'time', 'everi', 'moment', 'exist', 'tri', 'figur', 'hard', 'time', 'time', 'growth', 'http', 'wallpaperpass', 'com', 'upload', 'friendship', 'boy', 'girl', 'wallpap', 'jpg', 'http', 'asset', 'dornob', 'com', 'wp', 'content', 'upload', 'round', 'home', 'design', 'jpg', 'welcom', 'stuff', 'http', 'playeress', 'com', 'wp', 'content', 'upload', 'red', 'red', 'pokemon', 'master', 'jpg', 'game', 'set', 'match', 'prozac', 'wellbrutin', 'least', 'thirti', 'minut', 'move', 'leg', 'mean', 'move', 'sit', 'desk', 'chair', 'weed', 'moder', 'mayb', 'tri', 'edibl', 'healthier', 'altern', 'basic', 'come', 'three', 'item', 'determin', 'type', 'whichev', 'type', 'want', 'would', 'like', 'use', 'given', 'type', 'cognit', 'function', 'whatnot', 'left', 'thing', 'moder', 'sim', 'inde', 'video', 'game', 'good', 'one', 'note', 'good', 'one', 'somewhat', 'subject', 'complet', 'promot', 'death', 'given', 'sim', 'dear', 'enfp', 'favorit', 'video', 'game', 'grow', 'current', 'favorit', 'video', 'game', 'cool', 'http', 'www', 'youtub', 'com', 'watch', 'v', 'qypqt', 'umzmi', 'appear', 'late', 'sad', 'someon', 'everyon', 'wait', 'thought', 'confid', 'good', 'thing', 'cherish', 'time', 'solitud', 'b', 'c', 'revel', 'within', 'inner', 'world', 'wherea', 'time', 'workin', 'enjoy', 'time', 'worri', 'peopl', 'alway', 'around', 'yo', 'entp', 'ladi', 'complimentari', 'person', 'well', 'hey', 'main', 'social', 'outlet', 'xbox', 'live', 'convers', 'even', 'verbal', 'fatigu', 'quickli', 'http', 'www', 'youtub', 'com', 'watch', 'v', 'gdhi', 'rdfm', 'realli', 'dig', 'part', 'http', 'www', 'youtub', 'com', 'watch', 'v', 'msqxffgh', 'b', 'ban', 'thread', 'requir', 'get', 'high', 'backyard', 'roast', 'eat', 'marshmellow', 'backyard', 'convers', 'someth', 'intellectu', 'follow', 'massag', 'kiss', 'http', 'www', 'youtub', 'com', 'watch', 'v', 'mw', 'eou', 'bmbe', 'http', 'www', 'youtub', 'com', 'watch', 'v', 'v', 'uyorhqok', 'http', 'www', 'youtub', 'com', 'watch', 'v', 'slvmgfqq', 'ti', 'ban', 'mani', 'b', 'sentenc', 'could', 'think', 'b', 'ban', 'watch', 'movi', 'corner', 'dunc', 'ban', 'health', 'class', 'clearli', 'taught', 'noth', 'peer', 'pressur', 'ban', 'whole', 'host', 'reason', 'http', 'www', 'youtub', 'com', 'watch', 'v', 'ircrv', 'hgz', 'two', 'babi', 'deer', 'left', 'right', 'munch', 'beetl', 'middl', 'use', 'blood', 'two', 'cavemen', 'diari', 'today', 'latest', 'happen', 'design', 'cave', 'diari', 'wall', 'see', 'pokemon', 'world', 'infj', 'societi', 'everyon', 'becom', 'optimist', 'http', 'www', 'youtub', 'com', 'watch', 'v', 'zrceq', 'jfefm', 'http', 'discovermagazin', 'com', 'jul', 'aug', 'thing', 'didnt', 'know', 'desert', 'desert', 'jpg', 'http', 'oyster', 'ignimg', 'com', 'mediawiki', 'api', 'ign', 'com', 'pokemon', 'silver', 'version', 'dd', 'ditto', 'gif', 'http', 'www', 'serebii', 'net', 'potw', 'dp', 'scizor', 'jpg', 'artist', 'artist', 'draw', 'idea', 'count', 'form', 'someth', 'like', 'signatur', 'welcom', 'robot', 'rank', 'person', 'down', 'self', 'esteem', 'cuz', 'avid', 'signatur', 'artist', 'like', 'proud', 'ban', 'take', 'room', 'bed', 'ya', 'gotta', 'learn', 'share', 'roach', 'http', 'www', 'youtub', 'com', 'watch', 'v', 'w', 'igimn', 'aq', 'ban', 'much', 'thunder', 'grumbl', 'kind', 'storm', 'yep', 'ahh', 'old', 'high', 'school', 'music', 'heard', 'age', 'http', 'www', 'youtub', 'com', 'watch', 'v', 'dccrupcdb', 'w', 'fail', 'public', 'speak', 'class', 'year', 'ago', 'sort', 'learn', 'could', 'better', 'posit', 'big', 'part', 'failur', 'overload', 'like', 'person', 'mental', 'confirm', 'intj', 'way', 'http', 'www', 'youtub', 'com', 'watch', 'v', 'hgkli', 'gec', 'move', 'denver', 'area', 'start', 'new', 'life']\n"
     ]
    }
   ],
   "source": [
    "ps=PorterStemmer()\n",
    "\n",
    "\n",
    "post=[ps.stem(i)  for i in post]\n",
    "print(post)"
   ]
  },
  {
   "cell_type": "code",
   "execution_count": 16,
   "metadata": {},
   "outputs": [
    {
     "name": "stdout",
     "output_type": "stream",
     "text": [
      "http www youtub com watch v qsxhcwe krw http media tumblr com tumblr lfouy pma qa rooo jpg enfp intj moment http www youtub com watch v iz le g xm sportscent top ten play http www youtub com watch v ucdfz etec prank life chang experi life http www youtub com watch v vxzeywwrdw http www youtub com watch v u ejam dp e repeat today may perc experi immers last thing infj friend post facebook commit suicid next day rest peac http vimeo com hello enfj sorri hear distress natur relationship perfect time everi moment exist tri figur hard time time growth http wallpaperpass com upload friendship boy girl wallpap jpg http asset dornob com wp content upload round home design jpg welcom stuff http playeress com wp content upload red red pokemon master jpg game set match prozac wellbrutin least thirti minut move leg mean move sit desk chair weed moder mayb tri edibl healthier altern basic come three item determin type whichev type want would like use given type cognit function whatnot left thing moder sim inde video game good one note good one somewhat subject complet promot death given sim dear enfp favorit video game grow current favorit video game cool http www youtub com watch v qypqt umzmi appear late sad someon everyon wait thought confid good thing cherish time solitud b c revel within inner world wherea time workin enjoy time worri peopl alway around yo entp ladi complimentari person well hey main social outlet xbox live convers even verbal fatigu quickli http www youtub com watch v gdhi rdfm realli dig part http www youtub com watch v msqxffgh b ban thread requir get high backyard roast eat marshmellow backyard convers someth intellectu follow massag kiss http www youtub com watch v mw eou bmbe http www youtub com watch v v uyorhqok http www youtub com watch v slvmgfqq ti ban mani b sentenc could think b ban watch movi corner dunc ban health class clearli taught noth peer pressur ban whole host reason http www youtub com watch v ircrv hgz two babi deer left right munch beetl middl use blood two cavemen diari today latest happen design cave diari wall see pokemon world infj societi everyon becom optimist http www youtub com watch v zrceq jfefm http discovermagazin com jul aug thing didnt know desert desert jpg http oyster ignimg com mediawiki api ign com pokemon silver version dd ditto gif http www serebii net potw dp scizor jpg artist artist draw idea count form someth like signatur welcom robot rank person down self esteem cuz avid signatur artist like proud ban take room bed ya gotta learn share roach http www youtub com watch v w igimn aq ban much thunder grumbl kind storm yep ahh old high school music heard age http www youtub com watch v dccrupcdb w fail public speak class year ago sort learn could better posit big part failur overload like person mental confirm intj way http www youtub com watch v hgkli gec move denver area start new life\n"
     ]
    }
   ],
   "source": [
    "post=' '.join(post)\n",
    "print(post)"
   ]
  },
  {
   "cell_type": "code",
   "execution_count": 23,
   "metadata": {},
   "outputs": [],
   "source": [
    "corpus = []\n",
    "\n",
    "for i in range(0, 8675):\n",
    "    post = re.sub('[^a-zA-Z]', ' ', df['posts'][i])\n",
    "    post = post.lower()\n",
    "    post = post.split()\n",
    "    post = [word for word in post if not word in set(stopwords.words('english'))]\n",
    "    \n",
    "    ps = PorterStemmer()\n",
    "    post = [ps.stem(word) for word in post]\n",
    "    \n",
    "    post = ' '.join(post)\n",
    "    \n",
    "    corpus.append(post)"
   ]
  },
  {
   "cell_type": "code",
   "execution_count": 24,
   "metadata": {},
   "outputs": [
    {
     "name": "stdout",
     "output_type": "stream",
     "text": [
      "8675\n"
     ]
    }
   ],
   "source": [
    "print(len(corpus))"
   ]
  },
  {
   "cell_type": "code",
   "execution_count": 26,
   "metadata": {},
   "outputs": [],
   "source": [
    "from sklearn.feature_extraction.text import CountVectorizer\n",
    "cv=CountVectorizer(max_features=2100)"
   ]
  },
  {
   "cell_type": "code",
   "execution_count": 27,
   "metadata": {},
   "outputs": [
    {
     "name": "stdout",
     "output_type": "stream",
     "text": [
      "(8675, 2100)\n"
     ]
    }
   ],
   "source": [
    "features=cv.fit_transform(corpus).toarray()\n",
    "print(features.shape)"
   ]
  },
  {
   "cell_type": "code",
   "execution_count": null,
   "metadata": {},
   "outputs": [],
   "source": []
  },
  {
   "cell_type": "code",
   "execution_count": 208,
   "metadata": {},
   "outputs": [
    {
     "name": "stdout",
     "output_type": "stream",
     "text": [
      "Counter({'N': 7478, 'I': 6676, 'P': 5241, 'F': 4694, 'T': 3981, 'J': 3434, 'E': 1999, 'S': 1197})\n"
     ]
    }
   ],
   "source": [
    "corpus2 = []\n",
    "corpus3 = []\n",
    "\n",
    "for i in range(0,8675) :\n",
    "    def split(word): \n",
    "        return list(word)\n",
    "    \n",
    "    word=df['type'][i]\n",
    "    \n",
    "    spl=split(word)\n",
    "    corpus2.append(spl)\n",
    "    \n",
    "\n",
    "import collections\n",
    "merged_list=sum(corpus2, [])\n",
    "counter=collections.Counter(merged_list)\n",
    "print(counter)\n",
    "\n",
    "corpus4=counter.values()\n",
    "corpus3=counter.keys()"
   ]
  },
  {
   "cell_type": "code",
   "execution_count": 210,
   "metadata": {},
   "outputs": [
    {
     "data": {
      "text/html": [
       "<div>\n",
       "<style scoped>\n",
       "    .dataframe tbody tr th:only-of-type {\n",
       "        vertical-align: middle;\n",
       "    }\n",
       "\n",
       "    .dataframe tbody tr th {\n",
       "        vertical-align: top;\n",
       "    }\n",
       "\n",
       "    .dataframe thead th {\n",
       "        text-align: right;\n",
       "    }\n",
       "</style>\n",
       "<table border=\"1\" class=\"dataframe\">\n",
       "  <thead>\n",
       "    <tr style=\"text-align: right;\">\n",
       "      <th></th>\n",
       "      <th>Personality_Type</th>\n",
       "      <th>Frequency</th>\n",
       "    </tr>\n",
       "  </thead>\n",
       "  <tbody>\n",
       "    <tr>\n",
       "      <th>0</th>\n",
       "      <td>I</td>\n",
       "      <td>6676</td>\n",
       "    </tr>\n",
       "    <tr>\n",
       "      <th>1</th>\n",
       "      <td>N</td>\n",
       "      <td>7478</td>\n",
       "    </tr>\n",
       "    <tr>\n",
       "      <th>2</th>\n",
       "      <td>F</td>\n",
       "      <td>4694</td>\n",
       "    </tr>\n",
       "    <tr>\n",
       "      <th>3</th>\n",
       "      <td>J</td>\n",
       "      <td>3434</td>\n",
       "    </tr>\n",
       "    <tr>\n",
       "      <th>4</th>\n",
       "      <td>E</td>\n",
       "      <td>1999</td>\n",
       "    </tr>\n",
       "    <tr>\n",
       "      <th>5</th>\n",
       "      <td>T</td>\n",
       "      <td>3981</td>\n",
       "    </tr>\n",
       "    <tr>\n",
       "      <th>6</th>\n",
       "      <td>P</td>\n",
       "      <td>5241</td>\n",
       "    </tr>\n",
       "    <tr>\n",
       "      <th>7</th>\n",
       "      <td>S</td>\n",
       "      <td>1197</td>\n",
       "    </tr>\n",
       "  </tbody>\n",
       "</table>\n",
       "</div>"
      ],
      "text/plain": [
       "  Personality_Type  Frequency\n",
       "0                I       6676\n",
       "1                N       7478\n",
       "2                F       4694\n",
       "3                J       3434\n",
       "4                E       1999\n",
       "5                T       3981\n",
       "6                P       5241\n",
       "7                S       1197"
      ]
     },
     "execution_count": 210,
     "metadata": {},
     "output_type": "execute_result"
    }
   ],
   "source": [
    "df1=pd.DataFrame(list(zip(corpus3, corpus4)), columns =['Personality_Type', 'Frequency'])\n",
    "df1"
   ]
  },
  {
   "cell_type": "code",
   "execution_count": 211,
   "metadata": {},
   "outputs": [
    {
     "data": {
      "text/html": [
       "<div>\n",
       "<style scoped>\n",
       "    .dataframe tbody tr th:only-of-type {\n",
       "        vertical-align: middle;\n",
       "    }\n",
       "\n",
       "    .dataframe tbody tr th {\n",
       "        vertical-align: top;\n",
       "    }\n",
       "\n",
       "    .dataframe thead th {\n",
       "        text-align: right;\n",
       "    }\n",
       "</style>\n",
       "<table border=\"1\" class=\"dataframe\">\n",
       "  <thead>\n",
       "    <tr style=\"text-align: right;\">\n",
       "      <th></th>\n",
       "      <th>Frequency</th>\n",
       "    </tr>\n",
       "    <tr>\n",
       "      <th>Personality_Type</th>\n",
       "      <th></th>\n",
       "    </tr>\n",
       "  </thead>\n",
       "  <tbody>\n",
       "    <tr>\n",
       "      <th>I</th>\n",
       "      <td>6676</td>\n",
       "    </tr>\n",
       "    <tr>\n",
       "      <th>N</th>\n",
       "      <td>7478</td>\n",
       "    </tr>\n",
       "    <tr>\n",
       "      <th>F</th>\n",
       "      <td>4694</td>\n",
       "    </tr>\n",
       "    <tr>\n",
       "      <th>J</th>\n",
       "      <td>3434</td>\n",
       "    </tr>\n",
       "    <tr>\n",
       "      <th>E</th>\n",
       "      <td>1999</td>\n",
       "    </tr>\n",
       "    <tr>\n",
       "      <th>T</th>\n",
       "      <td>3981</td>\n",
       "    </tr>\n",
       "    <tr>\n",
       "      <th>P</th>\n",
       "      <td>5241</td>\n",
       "    </tr>\n",
       "    <tr>\n",
       "      <th>S</th>\n",
       "      <td>1197</td>\n",
       "    </tr>\n",
       "  </tbody>\n",
       "</table>\n",
       "</div>"
      ],
      "text/plain": [
       "                  Frequency\n",
       "Personality_Type           \n",
       "I                      6676\n",
       "N                      7478\n",
       "F                      4694\n",
       "J                      3434\n",
       "E                      1999\n",
       "T                      3981\n",
       "P                      5241\n",
       "S                      1197"
      ]
     },
     "execution_count": 211,
     "metadata": {},
     "output_type": "execute_result"
    }
   ],
   "source": [
    "df1=pd.DataFrame(list(zip(corpus3, corpus4)), columns =['Personality_Type', 'Frequency'])\n",
    "df1.set_index('Personality_Type')"
   ]
  },
  {
   "cell_type": "code",
   "execution_count": 212,
   "metadata": {},
   "outputs": [
    {
     "name": "stdout",
     "output_type": "stream",
     "text": [
      "Personality_Type     I     N     F     J     E     T     P     S\n",
      "Frequency         6676  7478  4694  3434  1999  3981  5241  1197\n"
     ]
    }
   ],
   "source": [
    "df2=df1.set_index('Personality_Type').T\n",
    "print(df2)"
   ]
  },
  {
   "cell_type": "code",
   "execution_count": 213,
   "metadata": {},
   "outputs": [
    {
     "data": {
      "text/plain": [
       "Text(0, 0.5, 'Frequency')"
      ]
     },
     "execution_count": 213,
     "metadata": {},
     "output_type": "execute_result"
    },
    {
     "data": {
      "image/png": "[encoded data removed]",
      "text/plain": [
       "<Figure size 432x288 with 1 Axes>"
      ]
     },
     "metadata": {
      "needs_background": "light"
     },
     "output_type": "display_data"
    }
   ],
   "source": [
    "import matplotlib.pyplot as plot\n",
    "df1.plot.bar()\n",
    "plot.xlabel(\"Personality_Type\")\n",
    "plot.ylabel(\"Frequency\")"
   ]
  },
  {
   "cell_type": "code",
   "execution_count": 214,
   "metadata": {},
   "outputs": [
    {
     "data": {
      "text/plain": [
       "Text(0, 0.5, 'Frequency')"
      ]
     },
     "execution_count": 214,
     "metadata": {},
     "output_type": "execute_result"
    },
    {
     "data": {
      "image/png": "[encoded data removed]",
      "text/plain": [
       "<Figure size 432x288 with 1 Axes>"
      ]
     },
     "metadata": {
      "needs_background": "light"
     },
     "output_type": "display_data"
    }
   ],
   "source": [
    "plot.bar(df1['Personality_Type'], df1['Frequency'])\n",
    "plot.xlabel(\"Personality_Type\")\n",
    "plot.ylabel(\"Frequency\")"
   ]
  },
  {
   "cell_type": "code",
   "execution_count": 248,
   "metadata": {},
   "outputs": [
    {
     "name": "stderr",
     "output_type": "stream",
     "text": [
      "No handles with labels found to put in legend.\n"
     ]
    },
    {
     "data": {
      "image/png": "[encoded data removed]",
      "text/plain": [
       "<Figure size 432x288 with 1 Axes>"
      ]
     },
     "metadata": {
      "needs_background": "light"
     },
     "output_type": "display_data"
    }
   ],
   "source": [
    "import matplotlib.pyplot as plot\n",
    "\n",
    "plot.bar(df2['I'], df2['E'])\n",
    "plot.legend()\n",
    "plot.show()"
   ]
  },
  {
   "cell_type": "code",
   "execution_count": 257,
   "metadata": {},
   "outputs": [
    {
     "name": "stderr",
     "output_type": "stream",
     "text": [
      "No handles with labels found to put in legend.\n"
     ]
    },
    {
     "data": {
      "image/png": "[encoded data removed]",
      "text/plain": [
       "<Figure size 432x288 with 1 Axes>"
      ]
     },
     "metadata": {
      "needs_background": "light"
     },
     "output_type": "display_data"
    }
   ],
   "source": [
    "plot.bar(df2['N'], df2['S'])\n",
    "plot.legend()\n",
    "plot.show()"
   ]
  },
  {
   "cell_type": "code",
   "execution_count": 251,
   "metadata": {},
   "outputs": [
    {
     "name": "stderr",
     "output_type": "stream",
     "text": [
      "No handles with labels found to put in legend.\n"
     ]
    },
    {
     "data": {
      "image/png": "[encoded data removed]",
      "text/plain": [
       "<Figure size 432x288 with 1 Axes>"
      ]
     },
     "metadata": {
      "needs_background": "light"
     },
     "output_type": "display_data"
    }
   ],
   "source": [
    "plot.bar(df2['T'], df2['F'])\n",
    "plot.legend()\n",
    "plot.show()"
   ]
  },
  {
   "cell_type": "code",
   "execution_count": 252,
   "metadata": {},
   "outputs": [
    {
     "name": "stderr",
     "output_type": "stream",
     "text": [
      "No handles with labels found to put in legend.\n"
     ]
    },
    {
     "data": {
      "image/png": "[encoded data removed]",
      "text/plain": [
       "<Figure size 432x288 with 1 Axes>"
      ]
     },
     "metadata": {
      "needs_background": "light"
     },
     "output_type": "display_data"
    }
   ],
   "source": [
    "plot.bar(df2['J'], df2['P'])\n",
    "plot.legend()\n",
    "plot.show()"
   ]
  },
  {
   "cell_type": "code",
   "execution_count": 222,
   "metadata": {},
   "outputs": [
    {
     "name": "stderr",
     "output_type": "stream",
     "text": [
      "C:\\ProgramData\\Anaconda3\\lib\\site-packages\\pandas\\plotting\\_core.py:1001: UserWarning: Attempting to set identical left == right == 1999.0 results in singular transformations; automatically expanding.\n",
      "  ax.set_xlim(left, right)\n"
     ]
    },
    {
     "data": {
      "text/plain": [
       "<matplotlib.axes._subplots.AxesSubplot at 0x2af93f4ce80>"
      ]
     },
     "execution_count": 222,
     "metadata": {},
     "output_type": "execute_result"
    },
    {
     "data": {
      "image/png": "[encoded data removed]",
      "text/plain": [
       "<Figure size 720x360 with 1 Axes>"
      ]
     },
     "metadata": {
      "needs_background": "light"
     },
     "output_type": "display_data"
    }
   ],
   "source": [
    "df2.plot(x='I', y='E', figsize=(10,5), grid=True)"
   ]
  },
  {
   "cell_type": "code",
   "execution_count": 223,
   "metadata": {},
   "outputs": [
    {
     "name": "stderr",
     "output_type": "stream",
     "text": [
      "C:\\ProgramData\\Anaconda3\\lib\\site-packages\\pandas\\plotting\\_core.py:1001: UserWarning: Attempting to set identical left == right == 7478.0 results in singular transformations; automatically expanding.\n",
      "  ax.set_xlim(left, right)\n"
     ]
    },
    {
     "data": {
      "text/plain": [
       "<matplotlib.axes._subplots.AxesSubplot at 0x2af93fbb908>"
      ]
     },
     "execution_count": 223,
     "metadata": {},
     "output_type": "execute_result"
    },
    {
     "data": {
      "image/png": "[encoded data removed]",
      "text/plain": [
       "<Figure size 720x360 with 1 Axes>"
      ]
     },
     "metadata": {
      "needs_background": "light"
     },
     "output_type": "display_data"
    }
   ],
   "source": [
    "df2.plot(x='N', y='S', figsize=(10,5), grid=True)"
   ]
  },
  {
   "cell_type": "code",
   "execution_count": 224,
   "metadata": {},
   "outputs": [
    {
     "name": "stderr",
     "output_type": "stream",
     "text": [
      "C:\\ProgramData\\Anaconda3\\lib\\site-packages\\pandas\\plotting\\_core.py:1001: UserWarning: Attempting to set identical left == right == 3981.0 results in singular transformations; automatically expanding.\n",
      "  ax.set_xlim(left, right)\n"
     ]
    },
    {
     "data": {
      "text/plain": [
       "<matplotlib.axes._subplots.AxesSubplot at 0x2af94021f98>"
      ]
     },
     "execution_count": 224,
     "metadata": {},
     "output_type": "execute_result"
    },
    {
     "data": {
      "image/png": "[encoded data removed]",
      "text/plain": [
       "<Figure size 720x360 with 1 Axes>"
      ]
     },
     "metadata": {
      "needs_background": "light"
     },
     "output_type": "display_data"
    }
   ],
   "source": [
    "df2.plot(x='T', y='F', figsize=(10,5), grid=True)"
   ]
  },
  {
   "cell_type": "code",
   "execution_count": 225,
   "metadata": {},
   "outputs": [
    {
     "name": "stderr",
     "output_type": "stream",
     "text": [
      "C:\\ProgramData\\Anaconda3\\lib\\site-packages\\pandas\\plotting\\_core.py:1001: UserWarning: Attempting to set identical left == right == 3434.0 results in singular transformations; automatically expanding.\n",
      "  ax.set_xlim(left, right)\n"
     ]
    },
    {
     "data": {
      "text/plain": [
       "<matplotlib.axes._subplots.AxesSubplot at 0x2af9409b2b0>"
      ]
     },
     "execution_count": 225,
     "metadata": {},
     "output_type": "execute_result"
    },
    {
     "data": {
      "image/png": "[encoded data removed]",
      "text/plain": [
       "<Figure size 720x360 with 1 Axes>"
      ]
     },
     "metadata": {
      "needs_background": "light"
     },
     "output_type": "display_data"
    }
   ],
   "source": [
    "df2.plot(x='J', y='P', figsize=(10,5), grid=True)"
   ]
  },
  {
   "cell_type": "code",
   "execution_count": 97,
   "metadata": {},
   "outputs": [],
   "source": [
    "corpus1 = []\n",
    "\n",
    "for i in range (0, 8675) :\n",
    "    corpus1.append(df['type'][i])"
   ]
  },
  {
   "cell_type": "code",
   "execution_count": 98,
   "metadata": {},
   "outputs": [],
   "source": [
    "cv1=CountVectorizer()"
   ]
  },
  {
   "cell_type": "code",
   "execution_count": 99,
   "metadata": {},
   "outputs": [
    {
     "name": "stdout",
     "output_type": "stream",
     "text": [
      "(8675, 16)\n"
     ]
    }
   ],
   "source": [
    "labels=cv1.fit_transform(corpus1).toarray()\n",
    "print(labels.shape)"
   ]
  },
  {
   "cell_type": "code",
   "execution_count": 100,
   "metadata": {},
   "outputs": [],
   "source": [
    "from sklearn.model_selection import train_test_split\n",
    "features_train, features_test, labels_train, labels_test = \\\n",
    "train_test_split(features, labels, test_size = 0.20, random_state = 0)"
   ]
  },
  {
   "cell_type": "code",
   "execution_count": 105,
   "metadata": {},
   "outputs": [
    {
     "data": {
      "text/plain": [
       "KNeighborsClassifier(algorithm='auto', leaf_size=30, metric='minkowski',\n",
       "                     metric_params=None, n_jobs=None, n_neighbors=5, p=2,\n",
       "                     weights='uniform')"
      ]
     },
     "execution_count": 105,
     "metadata": {},
     "output_type": "execute_result"
    }
   ],
   "source": [
    "from sklearn.neighbors import KNeighborsClassifier\n",
    "classifier=KNeighborsClassifier()\n",
    "classifier.fit(features_train, labels_train)"
   ]
  },
  {
   "cell_type": "code",
   "execution_count": 106,
   "metadata": {},
   "outputs": [],
   "source": [
    "labels_pred = classifier.predict(features_test)"
   ]
  },
  {
   "cell_type": "code",
   "execution_count": 109,
   "metadata": {},
   "outputs": [
    {
     "name": "stdout",
     "output_type": "stream",
     "text": [
      "[[ 30   0   1   0   0   0   0   0   2   7   1   2   0   0   0   0]\n",
      " [ 93  21   0   1   0   0   0   0   8  10   5   1   0   0   0   0]\n",
      " [ 28   0   1   0   0   0   0   0   2   2   0   2   0   0   0   0]\n",
      " [107   2   0  11   0   0   0   0   5   6   1   6   0   0   0   0]\n",
      " [ 11   0   0   0   0   0   0   0   0   0   0   2   0   0   0   0]\n",
      " [  6   0   0   0   0   0   0   0   1   1   0   0   0   0   0   0]\n",
      " [  6   0   1   0   0   0   0   0   1   0   0   0   0   0   0   0]\n",
      " [ 14   0   0   0   0   0   0   1   0   0   1   0   0   0   0   0]\n",
      " [181   2   0   4   0   0   0   0  68  28   2   9   0   1   0   0]\n",
      " [210   3   0   0   0   0   0   0  10 123   3   7   0   0   0   0]\n",
      " [181   1   0   0   0   0   0   0   6   4  39   7   0   0   1   0]\n",
      " [184   0   0   1   0   0   0   0   3  11   7  71   0   0   0   0]\n",
      " [ 28   0   0   0   0   0   0   0   0   2   0   0   5   0   0   0]\n",
      " [ 33   2   0   0   0   0   0   0   4   5   0   1   0   2   0   0]\n",
      " [ 20   0   0   0   0   0   0   0   0   2   0   1   0   0   1   0]\n",
      " [ 58   0   0   0   0   0   0   0   1   1   0   2   0   0   0   0]]\n"
     ]
    }
   ],
   "source": [
    "from sklearn.metrics import confusion_matrix\n",
    "cm1=confusion_matrix(labels_test.argmax(axis=1), labels_pred.argmax(axis=1))\n",
    "print(cm1)"
   ]
  },
  {
   "cell_type": "code",
   "execution_count": 111,
   "metadata": {},
   "outputs": [
    {
     "ename": "ValueError",
     "evalue": "bad input shape (6940, 2100)",
     "output_type": "error",
     "traceback": [
      "\u001b[1;31m---------------------------------------------------------------------------\u001b[0m",
      "\u001b[1;31mValueError\u001b[0m                                Traceback (most recent call last)",
      "\u001b[1;32m<ipython-input-111-2b66286d5f0e>\u001b[0m in \u001b[0;36m<module>\u001b[1;34m\u001b[0m\n\u001b[0;32m      1\u001b[0m \u001b[1;32mfrom\u001b[0m \u001b[0msklearn\u001b[0m\u001b[1;33m.\u001b[0m\u001b[0mnaive_bayes\u001b[0m \u001b[1;32mimport\u001b[0m \u001b[0mGaussianNB\u001b[0m\u001b[1;33m\u001b[0m\u001b[1;33m\u001b[0m\u001b[0m\n\u001b[0;32m      2\u001b[0m \u001b[0mclassifier1\u001b[0m\u001b[1;33m=\u001b[0m\u001b[0mGaussianNB\u001b[0m\u001b[1;33m(\u001b[0m\u001b[1;33m)\u001b[0m\u001b[1;33m\u001b[0m\u001b[1;33m\u001b[0m\u001b[0m\n\u001b[1;32m----> 3\u001b[1;33m \u001b[0mclassifier1\u001b[0m\u001b[1;33m.\u001b[0m\u001b[0mfit\u001b[0m\u001b[1;33m(\u001b[0m\u001b[0mlabels_train\u001b[0m\u001b[1;33m,\u001b[0m \u001b[0mfeatures_train\u001b[0m\u001b[1;33m)\u001b[0m\u001b[1;33m\u001b[0m\u001b[1;33m\u001b[0m\u001b[0m\n\u001b[0m",
      "\u001b[1;32mC:\\ProgramData\\Anaconda3\\lib\\site-packages\\sklearn\\naive_bayes.py\u001b[0m in \u001b[0;36mfit\u001b[1;34m(self, X, y, sample_weight)\u001b[0m\n\u001b[0;32m    187\u001b[0m         \u001b[0mself\u001b[0m \u001b[1;33m:\u001b[0m \u001b[0mobject\u001b[0m\u001b[1;33m\u001b[0m\u001b[1;33m\u001b[0m\u001b[0m\n\u001b[0;32m    188\u001b[0m         \"\"\"\n\u001b[1;32m--> 189\u001b[1;33m         \u001b[0mX\u001b[0m\u001b[1;33m,\u001b[0m \u001b[0my\u001b[0m \u001b[1;33m=\u001b[0m \u001b[0mcheck_X_y\u001b[0m\u001b[1;33m(\u001b[0m\u001b[0mX\u001b[0m\u001b[1;33m,\u001b[0m \u001b[0my\u001b[0m\u001b[1;33m)\u001b[0m\u001b[1;33m\u001b[0m\u001b[1;33m\u001b[0m\u001b[0m\n\u001b[0m\u001b[0;32m    190\u001b[0m         return self._partial_fit(X, y, np.unique(y), _refit=True,\n\u001b[0;32m    191\u001b[0m                                  sample_weight=sample_weight)\n",
      "\u001b[1;32mC:\\ProgramData\\Anaconda3\\lib\\site-packages\\sklearn\\utils\\validation.py\u001b[0m in \u001b[0;36mcheck_X_y\u001b[1;34m(X, y, accept_sparse, accept_large_sparse, dtype, order, copy, force_all_finite, ensure_2d, allow_nd, multi_output, ensure_min_samples, ensure_min_features, y_numeric, warn_on_dtype, estimator)\u001b[0m\n\u001b[0;32m    722\u001b[0m                         dtype=None)\n\u001b[0;32m    723\u001b[0m     \u001b[1;32melse\u001b[0m\u001b[1;33m:\u001b[0m\u001b[1;33m\u001b[0m\u001b[1;33m\u001b[0m\u001b[0m\n\u001b[1;32m--> 724\u001b[1;33m         \u001b[0my\u001b[0m \u001b[1;33m=\u001b[0m \u001b[0mcolumn_or_1d\u001b[0m\u001b[1;33m(\u001b[0m\u001b[0my\u001b[0m\u001b[1;33m,\u001b[0m \u001b[0mwarn\u001b[0m\u001b[1;33m=\u001b[0m\u001b[1;32mTrue\u001b[0m\u001b[1;33m)\u001b[0m\u001b[1;33m\u001b[0m\u001b[1;33m\u001b[0m\u001b[0m\n\u001b[0m\u001b[0;32m    725\u001b[0m         \u001b[0m_assert_all_finite\u001b[0m\u001b[1;33m(\u001b[0m\u001b[0my\u001b[0m\u001b[1;33m)\u001b[0m\u001b[1;33m\u001b[0m\u001b[1;33m\u001b[0m\u001b[0m\n\u001b[0;32m    726\u001b[0m     \u001b[1;32mif\u001b[0m \u001b[0my_numeric\u001b[0m \u001b[1;32mand\u001b[0m \u001b[0my\u001b[0m\u001b[1;33m.\u001b[0m\u001b[0mdtype\u001b[0m\u001b[1;33m.\u001b[0m\u001b[0mkind\u001b[0m \u001b[1;33m==\u001b[0m \u001b[1;34m'O'\u001b[0m\u001b[1;33m:\u001b[0m\u001b[1;33m\u001b[0m\u001b[1;33m\u001b[0m\u001b[0m\n",
      "\u001b[1;32mC:\\ProgramData\\Anaconda3\\lib\\site-packages\\sklearn\\utils\\validation.py\u001b[0m in \u001b[0;36mcolumn_or_1d\u001b[1;34m(y, warn)\u001b[0m\n\u001b[0;32m    758\u001b[0m         \u001b[1;32mreturn\u001b[0m \u001b[0mnp\u001b[0m\u001b[1;33m.\u001b[0m\u001b[0mravel\u001b[0m\u001b[1;33m(\u001b[0m\u001b[0my\u001b[0m\u001b[1;33m)\u001b[0m\u001b[1;33m\u001b[0m\u001b[1;33m\u001b[0m\u001b[0m\n\u001b[0;32m    759\u001b[0m \u001b[1;33m\u001b[0m\u001b[0m\n\u001b[1;32m--> 760\u001b[1;33m     \u001b[1;32mraise\u001b[0m \u001b[0mValueError\u001b[0m\u001b[1;33m(\u001b[0m\u001b[1;34m\"bad input shape {0}\"\u001b[0m\u001b[1;33m.\u001b[0m\u001b[0mformat\u001b[0m\u001b[1;33m(\u001b[0m\u001b[0mshape\u001b[0m\u001b[1;33m)\u001b[0m\u001b[1;33m)\u001b[0m\u001b[1;33m\u001b[0m\u001b[1;33m\u001b[0m\u001b[0m\n\u001b[0m\u001b[0;32m    761\u001b[0m \u001b[1;33m\u001b[0m\u001b[0m\n\u001b[0;32m    762\u001b[0m \u001b[1;33m\u001b[0m\u001b[0m\n",
      "\u001b[1;31mValueError\u001b[0m: bad input shape (6940, 2100)"
     ]
    }
   ],
   "source": [
    "from sklearn.naive_bayes import GaussianNB\n",
    "classifier1=GaussianNB()\n",
    "classifier1.fit(labels_train, features_train)"
   ]
  },
  {
   "cell_type": "code",
   "execution_count": 112,
   "metadata": {},
   "outputs": [],
   "source": [
    "labels_pred=classifier.predict(features_test)"
   ]
  },
  {
   "cell_type": "code",
   "execution_count": 114,
   "metadata": {},
   "outputs": [
    {
     "name": "stdout",
     "output_type": "stream",
     "text": [
      "[[ 30   0   1   0   0   0   0   0   2   7   1   2   0   0   0   0]\n",
      " [ 93  21   0   1   0   0   0   0   8  10   5   1   0   0   0   0]\n",
      " [ 28   0   1   0   0   0   0   0   2   2   0   2   0   0   0   0]\n",
      " [107   2   0  11   0   0   0   0   5   6   1   6   0   0   0   0]\n",
      " [ 11   0   0   0   0   0   0   0   0   0   0   2   0   0   0   0]\n",
      " [  6   0   0   0   0   0   0   0   1   1   0   0   0   0   0   0]\n",
      " [  6   0   1   0   0   0   0   0   1   0   0   0   0   0   0   0]\n",
      " [ 14   0   0   0   0   0   0   1   0   0   1   0   0   0   0   0]\n",
      " [181   2   0   4   0   0   0   0  68  28   2   9   0   1   0   0]\n",
      " [210   3   0   0   0   0   0   0  10 123   3   7   0   0   0   0]\n",
      " [181   1   0   0   0   0   0   0   6   4  39   7   0   0   1   0]\n",
      " [184   0   0   1   0   0   0   0   3  11   7  71   0   0   0   0]\n",
      " [ 28   0   0   0   0   0   0   0   0   2   0   0   5   0   0   0]\n",
      " [ 33   2   0   0   0   0   0   0   4   5   0   1   0   2   0   0]\n",
      " [ 20   0   0   0   0   0   0   0   0   2   0   1   0   0   1   0]\n",
      " [ 58   0   0   0   0   0   0   0   1   1   0   2   0   0   0   0]]\n"
     ]
    }
   ],
   "source": [
    "from sklearn.metrics import confusion_matrix\n",
    "cm2=confusion_matrix(labels_test.argmax(axis=1), labels_pred.argmax(axis=1))\n",
    "print(cm2)"
   ]
  },
  {
   "cell_type": "code",
   "execution_count": null,
   "metadata": {},
   "outputs": [],
   "source": []
  }
 ],
 "metadata": {
  "kernelspec": {
   "display_name": "Python 3",
   "language": "python",
   "name": "python3"
  },
  "language_info": {
   "codemirror_mode": {
    "name": "ipython",
    "version": 3
   },
   "file_extension": ".py",
   "mimetype": "text/x-python",
   "name": "python",
   "nbconvert_exporter": "python",
   "pygments_lexer": "ipython3",
   "version": "3.7.3"
  }
 },
 "nbformat": 4,
 "nbformat_minor": 4
}
